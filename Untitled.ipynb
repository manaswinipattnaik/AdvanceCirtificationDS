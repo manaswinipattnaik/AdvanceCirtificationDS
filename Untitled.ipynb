{
 "cells": [
  {
   "cell_type": "markdown",
   "id": "d53695f7",
   "metadata": {},
   "source": [
    "## IMPORTING "
   ]
  },
  {
   "cell_type": "code",
   "execution_count": null,
   "id": "af8cf857",
   "metadata": {},
   "outputs": [],
   "source": [
    "import pandas as pd\n",
    "\n",
    "import numpy as np\n",
    "\n",
    "import matplotlib.pyplot as plt\n",
    "\n",
    "%matplotlib inline\n",
    "\n",
    "import seaborn as sns\n",
    "pd.set_option('display.max_columns', 300) # to display all the columns\n",
    "pd.set_option('display.max_rows', 300) # to display all the rows\n",
    "pd.set_option('display.width', 1000)\n"
   ]
  },
  {
   "cell_type": "markdown",
   "id": "614e8614",
   "metadata": {},
   "source": [
    "## run files"
   ]
  },
  {
   "cell_type": "code",
   "execution_count": null,
   "id": "f047ca85",
   "metadata": {},
   "outputs": [],
   "source": [
    "newapplication = pd.read_csv('application_data.csv')\n",
    "newapplication.head()"
   ]
  },
  {
   "cell_type": "code",
   "execution_count": null,
   "id": "8966e6e5",
   "metadata": {},
   "outputs": [],
   "source": [
    "newapplication.shape\n",
    "\n"
   ]
  },
  {
   "cell_type": "code",
   "execution_count": null,
   "id": "fc27d43c",
   "metadata": {},
   "outputs": [],
   "source": [
    "newapplication.describe()\n"
   ]
  },
  {
   "cell_type": "code",
   "execution_count": null,
   "id": "834233d5",
   "metadata": {},
   "outputs": [],
   "source": [
    "newapplication.info(verbose=True, null_counts=True)"
   ]
  },
  {
   "cell_type": "markdown",
   "id": "1a92db7b",
   "metadata": {},
   "source": [
    "## analysis\n",
    "\n",
    "### find missing value"
   ]
  },
  {
   "cell_type": "code",
   "execution_count": null,
   "id": "25d622b0",
   "metadata": {},
   "outputs": [],
   "source": [
    "newapplication.isnull()"
   ]
  },
  {
   "cell_type": "code",
   "execution_count": null,
   "id": "24c9fa94",
   "metadata": {},
   "outputs": [],
   "source": [
    "print(newapplication.isnull().sum())\n"
   ]
  },
  {
   "cell_type": "code",
   "execution_count": null,
   "id": "a8924ed5",
   "metadata": {},
   "outputs": [],
   "source": [
    "percentage=round(100*newapplication.isnull().sum()/len(newapplication),2)\n",
    "percentage\n"
   ]
  },
  {
   "cell_type": "markdown",
   "id": "c390cb7a",
   "metadata": {},
   "source": [
    "### remove column high missing %"
   ]
  },
  {
   "cell_type": "code",
   "execution_count": null,
   "id": "74965a7f",
   "metadata": {},
   "outputs": [],
   "source": [
    "newdata= newapplication.loc[:, 100*newapplication.isnull().sum()/len(newapplication) <= 0.5]\n",
    "newdata.shape"
   ]
  },
  {
   "cell_type": "markdown",
   "id": "88ae97b5",
   "metadata": {},
   "source": [
    "#### check null value now\n"
   ]
  },
  {
   "cell_type": "code",
   "execution_count": null,
   "id": "dedaeac5",
   "metadata": {},
   "outputs": [],
   "source": [
    "\n",
    "round(100*newdata.isnull().sum()/len(newdata),2)"
   ]
  },
  {
   "cell_type": "markdown",
   "id": "917d0025",
   "metadata": {},
   "source": [
    "### retrive columns which has any null  value\n"
   ]
  },
  {
   "cell_type": "code",
   "execution_count": null,
   "id": "133731f9",
   "metadata": {},
   "outputs": [],
   "source": [
    "data_columns=newdata.columns[newdata.isnull().any()].tolist()\n",
    "newdata[data_columns].isnull().sum()*100/len(newdata)\n",
    "\n",
    "\n",
    "list(newdata.columns[(newdata.isnull().mean() <=0.13) & (newdata.isnull().mean()>0)])\n"
   ]
  },
  {
   "cell_type": "markdown",
   "id": "c6717916",
   "metadata": {},
   "source": [
    "### imputation  \n",
    "#### 1. AMT_ANNUITY"
   ]
  },
  {
   "cell_type": "code",
   "execution_count": null,
   "id": "04e5c89b",
   "metadata": {},
   "outputs": [],
   "source": [
    "newdata['AMT_ANNUITY'].value_counts()\n"
   ]
  },
  {
   "cell_type": "code",
   "execution_count": null,
   "id": "80635ba0",
   "metadata": {},
   "outputs": [],
   "source": [
    "newdata['AMT_ANNUITY'].head()\n"
   ]
  },
  {
   "cell_type": "code",
   "execution_count": null,
   "id": "419db734",
   "metadata": {},
   "outputs": [],
   "source": [
    "newdata['AMT_ANNUITY'].describe()"
   ]
  },
  {
   "cell_type": "code",
   "execution_count": null,
   "id": "6b5e0f09",
   "metadata": {},
   "outputs": [],
   "source": [
    "    import seaborn as sns\n",
    "import plotly.express as px\n",
    "import warnings\n",
    "warnings.filterwarnings('ignore')\n",
    "\n",
    "\n",
    "sns.boxplot (newdata['AMT_ANNUITY'])\n",
    "\n",
    "plt.show()\n"
   ]
  },
  {
   "cell_type": "code",
   "execution_count": null,
   "id": "1bff92ae",
   "metadata": {},
   "outputs": [],
   "source": [
    "imput= round(newdata['AMT_ANNUITY'].median(),2)\n",
    "imput\n"
   ]
  },
  {
   "cell_type": "markdown",
   "id": "3f895fac",
   "metadata": {},
   "source": [
    "###  2.AMT_GOODS_PRICE"
   ]
  },
  {
   "cell_type": "code",
   "execution_count": null,
   "id": "40d324b8",
   "metadata": {},
   "outputs": [],
   "source": [
    "newdata['AMT_GOODS_PRICE'].value_counts()\n"
   ]
  },
  {
   "cell_type": "code",
   "execution_count": null,
   "id": "fbc164c2",
   "metadata": {},
   "outputs": [],
   "source": [
    "newdata['AMT_GOODS_PRICE'].head()"
   ]
  },
  {
   "cell_type": "code",
   "execution_count": null,
   "id": "400bf4cb",
   "metadata": {},
   "outputs": [],
   "source": [
    "newdata['AMT_GOODS_PRICE'].describe()\n"
   ]
  },
  {
   "cell_type": "code",
   "execution_count": null,
   "id": "6ec991b7",
   "metadata": {},
   "outputs": [],
   "source": [
    "sns.boxplot (newdata['AMT_GOODS_PRICE'])\n",
    "\n",
    "plt.show()\n"
   ]
  },
  {
   "cell_type": "code",
   "execution_count": null,
   "id": "530e8d16",
   "metadata": {},
   "outputs": [],
   "source": [
    "imput= round(newdata['AMT_ANNUITY'].mean(),2)\n",
    "imput\n"
   ]
  },
  {
   "cell_type": "markdown",
   "id": "a8fe0aab",
   "metadata": {},
   "source": [
    "### 3.NAME_TYPE_SUITE"
   ]
  },
  {
   "cell_type": "code",
   "execution_count": null,
   "id": "00c94d16",
   "metadata": {},
   "outputs": [],
   "source": [
    "newdata['NAME_TYPE_SUITE'].value_counts()\n"
   ]
  },
  {
   "cell_type": "code",
   "execution_count": null,
   "id": "bd2492d8",
   "metadata": {},
   "outputs": [],
   "source": [
    "newdata['NAME_TYPE_SUITE'].head()"
   ]
  },
  {
   "cell_type": "code",
   "execution_count": null,
   "id": "2115bd65",
   "metadata": {},
   "outputs": [],
   "source": [
    "newdata['NAME_TYPE_SUITE'].describe()\n"
   ]
  },
  {
   "cell_type": "code",
   "execution_count": null,
   "id": "3d80347c",
   "metadata": {},
   "outputs": [],
   "source": [
    "#it is a catagoricalcolumn so itcounts mode\n",
    "imput=newdata['NAME_TYPE_SUITE'].mode()\n",
    "imput\n",
    "\n"
   ]
  },
  {
   "cell_type": "markdown",
   "id": "bab4c958",
   "metadata": {},
   "source": [
    "### 4.CNT_FAM_MEMBERS"
   ]
  },
  {
   "cell_type": "code",
   "execution_count": null,
   "id": "3cacdadb",
   "metadata": {},
   "outputs": [],
   "source": [
    "\n",
    "newdata['CNT_FAM_MEMBERS'].value_counts()"
   ]
  },
  {
   "cell_type": "code",
   "execution_count": null,
   "id": "102b3de8",
   "metadata": {},
   "outputs": [],
   "source": [
    "newdata['CNT_FAM_MEMBERS'].head()\n"
   ]
  },
  {
   "cell_type": "code",
   "execution_count": null,
   "id": "555948e0",
   "metadata": {},
   "outputs": [],
   "source": [
    "newdata['CNT_FAM_MEMBERS'].describe()\n"
   ]
  },
  {
   "cell_type": "code",
   "execution_count": null,
   "id": "89623644",
   "metadata": {},
   "outputs": [],
   "source": [
    "newdata.boxplot(column=['CNT_FAM_MEMBERS'])\n",
    "plt.show()\n"
   ]
  },
  {
   "cell_type": "code",
   "execution_count": null,
   "id": "681a7fec",
   "metadata": {},
   "outputs": [],
   "source": [
    "# from box plot it seems, it has lot of outliers so considering median\n",
    "newdata.CNT_FAM_MEMBERS.median()\n",
    "\n"
   ]
  },
  {
   "cell_type": "markdown",
   "id": "67e51744",
   "metadata": {},
   "source": [
    "### 5.EXT_SOURCE_2"
   ]
  },
  {
   "cell_type": "code",
   "execution_count": null,
   "id": "b69c2391",
   "metadata": {},
   "outputs": [],
   "source": [
    "newdata['EXT_SOURCE_2'].value_counts()"
   ]
  },
  {
   "cell_type": "code",
   "execution_count": null,
   "id": "953472a4",
   "metadata": {},
   "outputs": [],
   "source": [
    "newdata['EXT_SOURCE_2'].head()"
   ]
  },
  {
   "cell_type": "code",
   "execution_count": null,
   "id": "d91714ec",
   "metadata": {},
   "outputs": [],
   "source": [
    "newdata['EXT_SOURCE_2'].describe()\n"
   ]
  },
  {
   "cell_type": "code",
   "execution_count": null,
   "id": "c8c53b43",
   "metadata": {},
   "outputs": [],
   "source": [
    "newdata.boxplot(column=['EXT_SOURCE_2'])\n",
    "plt.show()"
   ]
  },
  {
   "cell_type": "code",
   "execution_count": null,
   "id": "91bf21d3",
   "metadata": {},
   "outputs": [],
   "source": [
    "# from box plot it seems, mean and median are almost near and no outliers but there is some tilt towards outliers so go with median\n",
    "newdata.EXT_SOURCE_2.median()"
   ]
  },
  {
   "cell_type": "code",
   "execution_count": null,
   "id": "3ca580be",
   "metadata": {},
   "outputs": [],
   "source": [
    "print(newdata.info())"
   ]
  },
  {
   "cell_type": "code",
   "execution_count": null,
   "id": "90bd2fba",
   "metadata": {},
   "outputs": [],
   "source": [
    "newdata.head()"
   ]
  },
  {
   "cell_type": "markdown",
   "id": "eef92623",
   "metadata": {},
   "source": [
    "###  6.count of unique values in each column\n"
   ]
  },
  {
   "cell_type": "code",
   "execution_count": null,
   "id": "19fa9e5f",
   "metadata": {},
   "outputs": [],
   "source": [
    "print(newdata.nunique().sort_values())\n",
    "\n",
    "newdata['CODE_GENDER'].value_counts()\n"
   ]
  },
  {
   "cell_type": "markdown",
   "id": "d09eddea",
   "metadata": {},
   "source": [
    "### 7.change'm','f'to male and fmale \n"
   ]
  },
  {
   "cell_type": "code",
   "execution_count": null,
   "id": "f81d20cc",
   "metadata": {},
   "outputs": [],
   "source": [
    "newdata=newdata[newdata['CODE_GENDER']!='XNA']\n",
    "newdata['CODE_GENDER'].replace(['M','F'],['Male','Female'],inplace=True)\n",
    "\n",
    "newdata.head()"
   ]
  },
  {
   "cell_type": "markdown",
   "id": "dded2072",
   "metadata": {},
   "source": [
    "### 8.DAYS_BIRTH\n",
    "\n",
    "####  converting negative DAYS_BIRTH value to positive value\n"
   ]
  },
  {
   "cell_type": "code",
   "execution_count": null,
   "id": "fc639d57",
   "metadata": {},
   "outputs": [],
   "source": [
    "newdata['DAYS_BIRTH']=newdata['DAYS_BIRTH'].abs()\n",
    "\n",
    "\n",
    "newdata['DAYS_BIRTH'].head()\n",
    "\n"
   ]
  },
  {
   "cell_type": "markdown",
   "id": "552f77bc",
   "metadata": {},
   "source": [
    "###  9.DAYS_EMPLOYED"
   ]
  },
  {
   "cell_type": "code",
   "execution_count": null,
   "id": "6b011550",
   "metadata": {},
   "outputs": [],
   "source": [
    "# converting negative DAYS_EMPLOYED value to positive value\n",
    "newdata['DAYS_EMPLOYED']=newdata['DAYS_EMPLOYED'].abs()\n",
    "\n",
    "\n",
    "newdata['DAYS_EMPLOYED'].head()\n",
    "\n"
   ]
  },
  {
   "cell_type": "markdown",
   "id": "0ad0f70d",
   "metadata": {},
   "source": [
    "### 10.DAYS_REGISTRATION"
   ]
  },
  {
   "cell_type": "code",
   "execution_count": null,
   "id": "f327ceeb",
   "metadata": {},
   "outputs": [],
   "source": [
    "# converting negative DAYS_REGISTRATION value to positive value\n",
    "newdata['DAYS_REGISTRATION']=newdata['DAYS_REGISTRATION'].abs()\n",
    "\n",
    "\n",
    "newdata['DAYS_REGISTRATION'].head()"
   ]
  },
  {
   "cell_type": "markdown",
   "id": "3beb1f0f",
   "metadata": {},
   "source": [
    "### 11.DAYS_ID_PUBLISH"
   ]
  },
  {
   "cell_type": "code",
   "execution_count": null,
   "id": "43f10e80",
   "metadata": {},
   "outputs": [],
   "source": [
    "# converting negative DAYS_ID_PUBLISH value to positive value\n",
    "newdata['DAYS_ID_PUBLISH']=newdata['DAYS_ID_PUBLISH'].abs()\n",
    "\n",
    "\n",
    "newdata['DAYS_ID_PUBLISH'].head()"
   ]
  },
  {
   "cell_type": "markdown",
   "id": "e0831054",
   "metadata": {},
   "source": [
    "### 11.DAYS_LAST_PHONE_CHANGE\n"
   ]
  },
  {
   "cell_type": "code",
   "execution_count": null,
   "id": "fe524805",
   "metadata": {},
   "outputs": [],
   "source": [
    "# converting negative DAYS_LAST_PHONE_CHANGE value to positive value\n",
    "newdata['DAYS_LAST_PHONE_CHANGE']=newdata['DAYS_LAST_PHONE_CHANGE'].abs()\n",
    "\n",
    "\n",
    "newdata['DAYS_LAST_PHONE_CHANGE'].head()\n",
    "\n"
   ]
  },
  {
   "cell_type": "code",
   "execution_count": null,
   "id": "761bbc6c",
   "metadata": {},
   "outputs": [],
   "source": [
    "newdata.head()"
   ]
  },
  {
   "cell_type": "markdown",
   "id": "7ff4b6f8",
   "metadata": {},
   "source": [
    "### checked columns with unique count greater than 3"
   ]
  },
  {
   "cell_type": "markdown",
   "id": "0ada5863",
   "metadata": {},
   "source": [
    "### 12.CNT_CHILDREN"
   ]
  },
  {
   "cell_type": "code",
   "execution_count": null,
   "id": "568ae5a9",
   "metadata": {},
   "outputs": [],
   "source": [
    "newdata['CNT_CHILDREN' ].value_counts()\n",
    "plt.boxplot(newdata['CNT_CHILDREN'])\n",
    "plt.title('cnt_children')\n",
    "plt.show()\n",
    "\n",
    "Q1 = newdata['CNT_CHILDREN'].quantile(0.25)\n",
    "Q3 = newdata['CNT_CHILDREN'].quantile(0.75)\n",
    "IQR = Q3 - Q1\n",
    "lowerwhisker=(Q1 - 1.5 * IQR)\n",
    "upperwhisker=(Q3 + 1.5 * IQR)\n",
    "#children cannot be in decimals we can conclude that count greater than 3 can be an out laier"
   ]
  },
  {
   "cell_type": "markdown",
   "id": "f135e08f",
   "metadata": {},
   "source": [
    "### 13.AMT_CREDIT"
   ]
  },
  {
   "cell_type": "code",
   "execution_count": null,
   "id": "c2a0e68a",
   "metadata": {},
   "outputs": [],
   "source": [
    "plt.boxplot(newdata['AMT_CREDIT'])\n",
    "\n",
    "plt.title('AMT_CREDIT')\n",
    "\n",
    "plt.show()\n",
    "newdata['AMT_CREDIT'].describe()\n",
    "newdata['AMT_CREDIT'].max()\n",
    "\n",
    "\n",
    "# From box plot, we can conclude that there exists values which are above upper whisker(maximum) considered to be as outliers. \n",
    "\n"
   ]
  },
  {
   "cell_type": "markdown",
   "id": "d5749be0",
   "metadata": {},
   "source": [
    "### 14.REGION_POPULATION_RELATIVE\n"
   ]
  },
  {
   "cell_type": "code",
   "execution_count": null,
   "id": "01f04b81",
   "metadata": {},
   "outputs": [],
   "source": [
    "\n",
    "plt.boxplot(newdata['REGION_POPULATION_RELATIVE'])\n",
    "plt.show()\n",
    "newdata['REGION_POPULATION_RELATIVE'].describe()\n"
   ]
  },
  {
   "cell_type": "markdown",
   "id": "bbef1de3",
   "metadata": {},
   "source": [
    "### 15.AMT_GOODS_PRICE"
   ]
  },
  {
   "cell_type": "code",
   "execution_count": null,
   "id": "902b75b4",
   "metadata": {},
   "outputs": [],
   "source": [
    "\n",
    "\n",
    "new=newdata['AMT_GOODS_PRICE']\n",
    "filtered = new[~np.isnan(new)]\n",
    "plt.boxplot(filtered)\n",
    "plt.title('AMT_GOODS_PRICE')\n",
    "plt.show()\n",
    "# opulation relative count greater than upper whisker is considered to be an outlier\n",
    "\n"
   ]
  },
  {
   "cell_type": "markdown",
   "id": "059b8bb5",
   "metadata": {},
   "source": [
    "##  Binning of continuous variables\n",
    " "
   ]
  },
  {
   "cell_type": "markdown",
   "id": "dc7b1650",
   "metadata": {},
   "source": [
    "###  16.AMT_INCOME_TOTAL\n"
   ]
  },
  {
   "cell_type": "code",
   "execution_count": null,
   "id": "fc360437",
   "metadata": {},
   "outputs": [],
   "source": [
    "newdata['AMT_INCOME_TOTAL'].quantile([0,0.1,0.3,0.6,0.8,1])"
   ]
  },
  {
   "cell_type": "code",
   "execution_count": null,
   "id": "86763f71",
   "metadata": {},
   "outputs": [],
   "source": [
    "#Creating A new categorical variable based on income total\n",
    "newdata['INCOME_GROUP']=pd.qcut(newdata['AMT_INCOME_TOTAL'],\n",
    "                                       q=[0,0.1,0.3,0.6,0.8,1],\n",
    "                                       labels=['VeryLow','Low','Medium','High','VeryHigh'])\n",
    "\n",
    "newdata['INCOME_GROUP']"
   ]
  },
  {
   "cell_type": "markdown",
   "id": "0615f607",
   "metadata": {},
   "source": [
    "### 17.DAYS_BIRTH"
   ]
  },
  {
   "cell_type": "code",
   "execution_count": null,
   "id": "516b2e34",
   "metadata": {},
   "outputs": [],
   "source": [
    "abs(newdata['DAYS_BIRTH']).quantile([0,0.1,0.3,0.6,0.8,1])\n"
   ]
  },
  {
   "cell_type": "code",
   "execution_count": null,
   "id": "98c74b98",
   "metadata": {},
   "outputs": [],
   "source": [
    "#Creating a column AGE using DAYS_BIRTH\n",
    "newdata['AGE']=abs(newdata['DAYS_BIRTH'])//365.25\n",
    "newdata['AGE'].describe()"
   ]
  },
  {
   "cell_type": "code",
   "execution_count": null,
   "id": "fc49ffc5",
   "metadata": {},
   "outputs": [],
   "source": [
    "## Since the AGE varies from 20 to 69, we can create bins of 5 years starting from 20 to 70\n",
    "newdata['AGE_GROUP'] = pd.cut(newdata['AGE'],bins=np.arange(20,71,5))\n",
    "newdata['AGE_GROUP']\n"
   ]
  },
  {
   "cell_type": "markdown",
   "id": "bd05da98",
   "metadata": {},
   "source": [
    "### 18.CREDIT_INCOME_RATIO"
   ]
  },
  {
   "cell_type": "code",
   "execution_count": null,
   "id": "f68f3dbd",
   "metadata": {},
   "outputs": [],
   "source": [
    "## Adding one more column that will be used for analysis later\n",
    "newdata['CREDIT_INCOME_RATIO']=round((newdata['AMT_CREDIT']/newdata['AMT_INCOME_TOTAL']))\n",
    "newdata['CREDIT_INCOME_RATIO']\n"
   ]
  },
  {
   "cell_type": "markdown",
   "id": "b92e5070",
   "metadata": {},
   "source": [
    "### 19.social circle who defaulted\n"
   ]
  },
  {
   "cell_type": "code",
   "execution_count": null,
   "id": "b75558ad",
   "metadata": {},
   "outputs": [],
   "source": [
    "newdata['CIRCLE_60']=newdata['DEF_60_CNT_SOCIAL_CIRCLE']/newdata['OBS_60_CNT_SOCIAL_CIRCLE']\n",
    "\n",
    "newdata['CIRCLE_60']\n",
    "\n",
    "newdata['CIRCLE_30']=newdata['DEF_30_CNT_SOCIAL_CIRCLE']/newdata['OBS_30_CNT_SOCIAL_CIRCLE']\n",
    "newdata['CIRCLE_30']\n",
    "\n",
    "newdata.head()\n",
    "\n"
   ]
  },
  {
   "cell_type": "markdown",
   "id": "c9950239",
   "metadata": {},
   "source": [
    "### Checking imbalance\n",
    "###  20.TARGET\n"
   ]
  },
  {
   "cell_type": "code",
   "execution_count": null,
   "id": "4f94be24",
   "metadata": {},
   "outputs": [],
   "source": [
    "\n",
    "new=newdata['TARGET'].value_counts(normalize=True)*100\n",
    "new\n",
    "\n",
    "new/ len(newdata)"
   ]
  },
  {
   "cell_type": "code",
   "execution_count": null,
   "id": "3c2c8d7b",
   "metadata": {},
   "outputs": [],
   "source": [
    "(new/ len(newdata)).plot.bar()\n",
    "plt.xticks(rotation=0)\n",
    "plt.show()\n",
    "\n",
    "print('its not balanced')"
   ]
  },
  {
   "cell_type": "code",
   "execution_count": null,
   "id": "b4423f00",
   "metadata": {},
   "outputs": [],
   "source": [
    "\n",
    "\n",
    "plt.pie(new,labels=['NON-DEFAULT (TARGET=0)','DEFAULT (TARGET=1)'],explode=(0,0.05),autopct='%1.f%%')\n",
    "plt.show()\n"
   ]
  },
  {
   "cell_type": "markdown",
   "id": "b5c591d1",
   "metadata": {},
   "source": [
    "### univariate analysis\n",
    "### 21.name rducation type\n"
   ]
  },
  {
   "cell_type": "code",
   "execution_count": null,
   "id": "fbddb5cd",
   "metadata": {},
   "outputs": [],
   "source": [
    "newdata['NAME_EDUCATION_TYPE']"
   ]
  },
  {
   "cell_type": "markdown",
   "id": "2b4cccfd",
   "metadata": {},
   "source": [
    "#### Divide the data into two sets, i.e., Target-1 and Target-0\n",
    " ####  22.NAME_EDUCATION_TYPE"
   ]
  },
  {
   "cell_type": "code",
   "execution_count": null,
   "id": "ad5fb959",
   "metadata": {},
   "outputs": [],
   "source": [
    "\n",
    "\n",
    "newdata1 = newdata[newdata['TARGET']==1]\n",
    "newdata0 = newdata[newdata['TARGET']==0]\n",
    "\n",
    "newdata0.NAME_EDUCATION_TYPE.value_counts(normalize=True).plot.bar()\n",
    "plt.title('for non-default')\n",
    "plt.show()\n",
    "\n",
    "newdata1.NAME_EDUCATION_TYPE.value_counts(normalize=True).plot.bar()\n",
    "plt.title('for default')\n",
    "plt.show()"
   ]
  },
  {
   "cell_type": "markdown",
   "id": "1faba38c",
   "metadata": {},
   "source": [
    "### 23.WEEKDAY_APPR_PROCESS_START\n"
   ]
  },
  {
   "cell_type": "code",
   "execution_count": null,
   "id": "a6339273",
   "metadata": {},
   "outputs": [],
   "source": [
    "newdata0.WEEKDAY_APPR_PROCESS_START.value_counts(normalize=True).plot.barh()\n",
    "plt.title('for non-default')\n",
    "plt.show()\n",
    "print('from the graph we can conclude that application starting processes are generally less in saturday and sunday')\n",
    "\n",
    "newdata1.WEEKDAY_APPR_PROCESS_START.value_counts(normalize=True).plot.barh()\n",
    "plt.title('for default')\n",
    "plt.show()\n",
    "print('from the graph we can conclude that application starting processes are generally less in saturday and sunday')\n",
    "\n",
    "\n"
   ]
  },
  {
   "cell_type": "markdown",
   "id": "45da0257",
   "metadata": {},
   "source": [
    "# catagorical variable\n",
    "\n"
   ]
  },
  {
   "cell_type": "markdown",
   "id": "a63e229d",
   "metadata": {},
   "source": [
    "###  24.NAME_FAMILY_STATUS\n"
   ]
  },
  {
   "cell_type": "code",
   "execution_count": null,
   "id": "689e43aa",
   "metadata": {},
   "outputs": [],
   "source": [
    "newdata0.NAME_FAMILY_STATUS.value_counts(normalize=True).plot.bar()\n",
    "plt.title('for non-default')\n",
    "plt.show()\n",
    "\n",
    "newdata1.NAME_FAMILY_STATUS.value_counts(normalize=True).plot.bar()\n",
    "plt.title('for default')\n",
    "plt.show()\n",
    "\n",
    "\n",
    "print(' It also shows that there exists few(1 or 2) unknown values in not default client family status')\n",
    "\n",
    "print(' We can say more married people tend to take more Loan as compaired to other categories')\n",
    "      \n",
    "print(' being married is not impacting default and not defaulting ')\n",
    "\n"
   ]
  },
  {
   "cell_type": "markdown",
   "id": "2f84c935",
   "metadata": {},
   "source": [
    "###  25.NAME_INCOME_TYPE\n"
   ]
  },
  {
   "cell_type": "code",
   "execution_count": null,
   "id": "02a5abc4",
   "metadata": {},
   "outputs": [],
   "source": [
    "\n",
    "newdata0.NAME_INCOME_TYPE.value_counts(normalize=True).plot.pie()\n",
    "plt.title('for non-default')\n",
    "plt.show()\n",
    "\n",
    "newdata1.NAME_INCOME_TYPE.value_counts(normalize=True).plot.pie()\n",
    "plt.title('for default')\n",
    "plt.show()\n",
    "\n",
    "\n",
    "print('Pensioner of non default case are high in number compared to Pensioner of default case')\n",
    "print('It also shows that majority of defaulters income type is working')\n",
    "print('and at the same time there is good income to bank from working people')\n"
   ]
  },
  {
   "cell_type": "markdown",
   "id": "1f3cb05f",
   "metadata": {},
   "source": [
    "### 26.NAME_HOUSING_TYPE\n"
   ]
  },
  {
   "cell_type": "code",
   "execution_count": null,
   "id": "6b259259",
   "metadata": {},
   "outputs": [],
   "source": [
    "\n",
    "newdata0.NAME_HOUSING_TYPE.value_counts(normalize=True).plot.barh()\n",
    "plt.title('for non-default')\n",
    "plt.show()\n",
    "\n",
    "newdata1.NAME_HOUSING_TYPE.value_counts(normalize=True).plot.barh()\n",
    "plt.title('for default')\n",
    "plt.show()\n",
    "print(' from graph we can conclude that there exists people who have own house')\n",
    "print('lies in both default and non default')\n"
   ]
  },
  {
   "cell_type": "markdown",
   "id": "7275230e",
   "metadata": {},
   "source": [
    "### 27. catagorical columns\n"
   ]
  },
  {
   "cell_type": "code",
   "execution_count": null,
   "id": "dd12f2f6",
   "metadata": {},
   "outputs": [],
   "source": [
    "\n",
    "categorical_columns=['NAME_CONTRACT_TYPE','CODE_GENDER','FLAG_OWN_CAR','FLAG_OWN_REALTY','NAME_EDUCATION_TYPE','NAME_FAMILY_STATUS', ]\n",
    "plt.figure(figsize=(20,20))\n",
    "\n",
    "for i in (enumerate(categorical_columns)):\n",
    "    \n",
    "    plt.subplot(len(categorical_columns)//2,2,i[0]+1)\n",
    "    \n",
    "    sns.countplot(x=i[1],hue='TARGET',data=newdata)\n",
    "    \n",
    "    plt.yscale('log')\n",
    "    plt.xticks(rotation=90)\n",
    "    \n",
    "    plt.show()\n",
    "\n",
    "\n",
    "#### People with Medium total income more likely default\n",
    "#### females ,merried person,real  estate companis,who dont woned car,secondary/special educated people  taking more loan.\n",
    "#### high Credit amount ,People who started application process on sunday are less likely to default,\n",
    "\n",
    "newdata.head()"
   ]
  },
  {
   "cell_type": "markdown",
   "id": "38656b56",
   "metadata": {},
   "source": [
    "#### considering 10 continous numerical columns\n"
   ]
  },
  {
   "cell_type": "code",
   "execution_count": null,
   "id": "deb1ebed",
   "metadata": {},
   "outputs": [],
   "source": [
    "continous_columns=['AMT_ANNUITY','AMT_GOODS_PRICE','CNT_FAM_MEMBERS',\n",
    "                  'DAYS_LAST_PHONE_CHANGE','DAYS_ID_PUBLISH','DAYS_BIRTH','HOUR_APPR_PROCESS_START',\n",
    "                  'DAYS_EMPLOYED','AMT_CREDIT','AMT_INCOME_TOTAL']\n",
    "plt.figure(figsize=(22,25))\n",
    "for i in (enumerate(continous_columns)):\n",
    "    plt.subplot(len(continous_columns)//2,2,i[0]+1)\n",
    "    sns.distplot(newdata1[i[1]].dropna(),hist=False,label='Target : default')\n",
    "    sns.distplot(newdata0[i[1]].dropna(),hist=False,label='Target : no default')\n",
    "plt.show()    "
   ]
  },
  {
   "cell_type": "markdown",
   "id": "09e1c8be",
   "metadata": {},
   "source": [
    "#### People with lower total income are more likely to default\n",
    "      who just got employed, who retired ,age group(17-41), whose id(s) got published between 4000 days and 5000 days ago ,           nuclear family will take more loans\n",
    "\n",
    "          High number of applications are filed in 10 AM to 2 PM\n",
    "           low amount annuity has high number of loans\n",
    "\n"
   ]
  },
  {
   "cell_type": "markdown",
   "id": "74d86069",
   "metadata": {},
   "source": [
    "# correlation \n"
   ]
  },
  {
   "cell_type": "markdown",
   "id": "e815c9d3",
   "metadata": {},
   "source": [
    "## finding  Correlated values for defalut(1)\n"
   ]
  },
  {
   "cell_type": "code",
   "execution_count": null,
   "id": "2230fb20",
   "metadata": {},
   "outputs": [],
   "source": [
    "corr=newdata1.corr()\n",
    "corrdf=corr.where(np.triu(np.ones(corr.shape), k=1).astype(np.bool))\n",
    "corrdf=corrdf.unstack().reset_index()\n",
    "corrdf.columns=['Var1','Var2','Coorelation']\n",
    "corrdf.dropna(subset=['Coorelation'],inplace=True)\n",
    "corrdf['Coorelation']=round(corrdf['Coorelation'],2)\n",
    "corrdf['Coorelation']=abs(corrdf['Coorelation']) #converting -ve values to +ve because they are same\n",
    "corrdf.sort_values(by='Coorelation',ascending=False).head(10)"
   ]
  },
  {
   "cell_type": "markdown",
   "id": "a655d328",
   "metadata": {},
   "source": [
    "## finding  Correlated values for defalut(0)\n"
   ]
  },
  {
   "cell_type": "code",
   "execution_count": null,
   "id": "b30f7068",
   "metadata": {},
   "outputs": [],
   "source": [
    "corr=newdata0.corr()\n",
    "corrdf=corr.where(np.triu(np.ones(corr.shape), k=1).astype(np.bool))\n",
    "corrdf=corrdf.unstack().reset_index()\n",
    "corrdf.columns=['Var1','Var2','Coorelation']\n",
    "corrdf.dropna(subset=['Coorelation'],inplace=True)\n",
    "corrdf['Coorelation']=round(corrdf['Coorelation'],2)\n",
    "corrdf['Coorelation']=abs(corrdf['Coorelation']) #converting -ve values to +ve because they are same\n",
    "corrdf.sort_values(by='Coorelation',ascending=False).head(10)"
   ]
  },
  {
   "cell_type": "markdown",
   "id": "8a3491ad",
   "metadata": {},
   "source": [
    "Correlation Observations\n",
    "When defaulted, major portion of decision is taken by-\n",
    "(YEARS_BEGINEXPLUATATION_MEDI AND YEARS_BEGINEXPLUATATION_AVG)\n",
    "(OBS_60_CNT_SOCIAL_CIRCLE AND OBS_30_CNT_SOCIAL_CIRCLE)\n",
    "(FLOORSMAX_MEDI AND FLOORSMAX_AVG)\n",
    "\n",
    "When not defaulted, major portion of decision is taken by-\n",
    "(FLOORSMAX_MEDI AND FLOORSMAX_AVG)\n",
    "(OBS_60_CNT_SOCIAL_CIRCLE AND OBS_30_CNT_SOCIAL_CIRCLE)\n",
    "(FLOORSMAX_MEDI AND FLOORSMAX_MODE)\n",
    "\n",
    "the values - YEARS_BEGINEXPLUATATION_MEDI and YEARS_BEGINEXPLUATATION_AVG are more correlated in default case than non-default\n"
   ]
  },
  {
   "cell_type": "markdown",
   "id": "11a69ee4",
   "metadata": {},
   "source": [
    "### Bi-variate analysis\n",
    "### numerical variable"
   ]
  },
  {
   "cell_type": "code",
   "execution_count": null,
   "id": "33a7eb73",
   "metadata": {},
   "outputs": [],
   "source": [
    "\n",
    "def plotbivar(var1,var2):\n",
    "\n",
    "    plt.style.use('ggplot')\n",
    "    sns.despine\n",
    "    fig,(ax1,ax2) = plt.subplots(1,2,figsize=(20,6))\n",
    "    \n",
    "    sns.scatterplot(x=var1, y=var2,data=newdata0,ax=ax1)\n",
    "    ax1.set_xlabel(var1)    \n",
    "    ax1.set_ylabel(var2)\n",
    "    ax1.set_title(f'{var1} vs {var2} for Non-Defaulters',fontsize=15)\n",
    "    \n",
    "    sns.scatterplot(x=var1, y=var2,data=newdata1,ax=ax2)\n",
    "    ax2.set_xlabel(var1)    \n",
    "    ax2.set_ylabel(var2)\n",
    "    ax2.set_title(f'{var1} vs {var2} for Defaulters',fontsize=15)\n",
    "            \n",
    "    plt.show()"
   ]
  },
  {
   "cell_type": "code",
   "execution_count": null,
   "id": "16644cf3",
   "metadata": {},
   "outputs": [],
   "source": [
    "plotbivar('AMT_GOODS_PRICE','AMT_CREDIT')\n"
   ]
  },
  {
   "cell_type": "code",
   "execution_count": null,
   "id": "4a2016a0",
   "metadata": {},
   "outputs": [],
   "source": [
    "plotbivar('AMT_CREDIT','CNT_FAM_MEMBERS')"
   ]
  },
  {
   "cell_type": "code",
   "execution_count": null,
   "id": "959fd47a",
   "metadata": {},
   "outputs": [],
   "source": [
    "plotbivar('AMT_CREDIT','AMT_GOODS_PRICE')"
   ]
  },
  {
   "cell_type": "markdown",
   "id": "7aa4158b",
   "metadata": {},
   "source": [
    "### CATAGORICAL"
   ]
  },
  {
   "cell_type": "code",
   "execution_count": null,
   "id": "4ef07206",
   "metadata": {},
   "outputs": [],
   "source": [
    "table1= pd.crosstab(index=newdata['TARGET'],columns=newdata['NAME_CONTRACT_TYPE'])\n",
    "print(table1)\n",
    "table1.plot(kind=\"bar\", figsize=(5,5),stacked=False)\n",
    "plt.xticks(rotation=0)\n",
    "plt.show()"
   ]
  },
  {
   "cell_type": "code",
   "execution_count": null,
   "id": "90c49057",
   "metadata": {},
   "outputs": [],
   "source": [
    "\n",
    "table1= pd.crosstab(index=newdata['TARGET'],columns=newdata['CODE_GENDER'])\n",
    "print(table1)\n",
    "table1.plot(kind=\"bar\", figsize=(5,5),stacked=False)\n",
    "plt.xticks(rotation=0)\n",
    "plt.show()"
   ]
  },
  {
   "cell_type": "code",
   "execution_count": null,
   "id": "7a83f7fb",
   "metadata": {},
   "outputs": [],
   "source": [
    "table1= pd.crosstab(index=newdata['TARGET'],columns=newdata['NAME_TYPE_SUITE'])\n",
    "print(table1)\n",
    "table1.plot(kind=\"bar\", figsize=(5,5),stacked=False)\n",
    "plt.xticks(rotation=0)\n",
    "plt.show()"
   ]
  },
  {
   "cell_type": "code",
   "execution_count": null,
   "id": "aa541292",
   "metadata": {},
   "outputs": [],
   "source": [
    "table1= pd.crosstab(index=newdata['TARGET'],columns=newdata['NAME_INCOME_TYPE'])\n",
    "print(table1)\n",
    "table1.plot(kind=\"hist\", figsize=(5,5),stacked=False)\n",
    "plt.xticks(rotation=0)\n",
    "plt.show()"
   ]
  },
  {
   "cell_type": "code",
   "execution_count": null,
   "id": "060d0bee",
   "metadata": {},
   "outputs": [],
   "source": [
    "table1= pd.crosstab(index=newdata['TARGET'],columns=newdata['NAME_HOUSING_TYPE'])\n",
    "print(table1)\n",
    "table1.plot(kind=\"hist\", figsize=(5,5),stacked=False)\n",
    "plt.xticks(rotation=0)\n",
    "plt.show()"
   ]
  },
  {
   "cell_type": "code",
   "execution_count": null,
   "id": "a43d18da",
   "metadata": {},
   "outputs": [],
   "source": [
    "columns=['DAYS_EMPLOYED','DAYS_BIRTH','DAYS_LAST_PHONE_CHANGE','HOUR_APPR_PROCESS_START',\n",
    "                  'DAYS_ID_PUBLISH','DAYS_REGISTRATION']\n",
    "plt.figure(figsize=(15,25))\n",
    "for i in (enumerate(columns)):\n",
    "    plt.subplot(len(columns)//2,2,i[0]+1)\n",
    "    sns.boxplot(x='TARGET',y=newdata[i[1]].dropna(),data=newdata)\n",
    "    plt.yscale('log')\n",
    "plt.show() "
   ]
  },
  {
   "cell_type": "markdown",
   "id": "5c672276",
   "metadata": {},
   "source": [
    "# Data Analysis For Previous Application Data\n"
   ]
  },
  {
   "cell_type": "code",
   "execution_count": null,
   "id": "47961f4a",
   "metadata": {},
   "outputs": [],
   "source": [
    "import pandas as pd\n",
    "import numpy as np\n",
    "import matplotlib.pyplot as plt\n",
    "%matplotlib inline\n",
    "import seaborn as sns\n",
    "import plotly.express as px\n",
    "import warnings\n",
    "warnings.filterwarnings('ignore')\n",
    "\n",
    "pd.set_option('display.max_columns', 300) # to display all the columns\n",
    "pd.set_option('display.max_rows', 300) # to display all the rows\n",
    "pd.set_option('display.width', 1000)"
   ]
  },
  {
   "cell_type": "code",
   "execution_count": null,
   "id": "054b00b2",
   "metadata": {},
   "outputs": [],
   "source": [
    "preapplication=pd.read_csv(\"previous_application.csv\")\n",
    "preapplication.head()\n"
   ]
  },
  {
   "cell_type": "code",
   "execution_count": null,
   "id": "ed9a53a6",
   "metadata": {},
   "outputs": [],
   "source": [
    "# Removing all the columns with more than 50% of null values\n",
    "preapplication = preapplication.loc[:,preapplication.isnull().mean()<=0.5]\n",
    "preapplication.shape\n",
    "\n"
   ]
  },
  {
   "cell_type": "code",
   "execution_count": null,
   "id": "2ac69b11",
   "metadata": {},
   "outputs": [],
   "source": [
    "preapplication.info()"
   ]
  },
  {
   "cell_type": "markdown",
   "id": "be7bf050",
   "metadata": {},
   "source": [
    "### univriate analysis\n",
    "#### # converting -ve values to +ve"
   ]
  },
  {
   "cell_type": "code",
   "execution_count": null,
   "id": "d080b67d",
   "metadata": {},
   "outputs": [],
   "source": [
    "\n",
    "\n",
    "preapplication['SELLERPLACE_AREA']=preapplication['SELLERPLACE_AREA'].abs()\n",
    "\n",
    "\n",
    "preapplication['DAYS_FIRST_DUE']=preapplication['DAYS_FIRST_DUE'].abs()\n",
    "\n",
    "\n",
    "preapplication['DAYS_LAST_DUE_1ST_VERSION']=preapplication['DAYS_LAST_DUE_1ST_VERSION'].abs()\n",
    "\n",
    "\n",
    "preapplication['DAYS_LAST_DUE']=preapplication['DAYS_LAST_DUE'].abs()\n",
    "\n",
    "\n",
    "preapplication['DAYS_TERMINATION']=preapplication['DAYS_TERMINATION'].abs()\n",
    "\n",
    "\n",
    "preapplication['DAYS_FIRST_DRAWING']=preapplication['DAYS_FIRST_DRAWING'].abs()\n",
    "\n",
    "preapplication['DAYS_DECISION']=preapplication['DAYS_DECISION'].abs()\n"
   ]
  },
  {
   "cell_type": "code",
   "execution_count": null,
   "id": "9812f2c9",
   "metadata": {},
   "outputs": [],
   "source": [
    "preapplication.head()"
   ]
  },
  {
   "cell_type": "code",
   "execution_count": null,
   "id": "ed0cb309",
   "metadata": {},
   "outputs": [],
   "source": [
    "def plot_uni(var):\n",
    "\n",
    "    plt.style.use('ggplot')\n",
    "    sns.despine\n",
    "    fig,ax = plt.subplots(1,1,figsize=(15,5))\n",
    "    \n",
    "    sns.countplot(x=var, data=preapplication,ax=ax,hue='NAME_CONTRACT_STATUS')\n",
    "    ax.set_ylabel('Total Counts')\n",
    "    ax.set_title(f'Distribution of {var}',fontsize=15)\n",
    "    ax.set_xticklabels(ax.get_xticklabels(), rotation=40, ha=\"right\")\n",
    "    \n",
    "    plt.show()\n",
    "\n"
   ]
  },
  {
   "cell_type": "code",
   "execution_count": null,
   "id": "59b19c37",
   "metadata": {},
   "outputs": [],
   "source": [
    "plot_uni('NAME_CONTRACT_TYPE')\n",
    "\n",
    "\n"
   ]
  },
  {
   "cell_type": "markdown",
   "id": "47df21a8",
   "metadata": {},
   "source": [
    "> ##### From the above chart, we can infer that, most of the applications are for 'Cash loan' and 'Consumer loan'. Although the cash loans are refused more often than others.\n"
   ]
  },
  {
   "cell_type": "code",
   "execution_count": null,
   "id": "b714f41a",
   "metadata": {},
   "outputs": [],
   "source": [
    "plot_uni('NAME_PAYMENT_TYPE')"
   ]
  },
  {
   "cell_type": "markdown",
   "id": "ca36c37f",
   "metadata": {},
   "source": [
    "##### From the above chart, we can infer that most of the clients chose to repay the loan using the 'Cash through the bank' option\n"
   ]
  },
  {
   "cell_type": "code",
   "execution_count": null,
   "id": "c41edf90",
   "metadata": {},
   "outputs": [],
   "source": [
    "plot_uni('NAME_CLIENT_TYPE')\n"
   ]
  },
  {
   "cell_type": "markdown",
   "id": "8eb67189",
   "metadata": {},
   "source": [
    "### CHECKING CORELATION"
   ]
  },
  {
   "cell_type": "code",
   "execution_count": null,
   "id": "fbf6a324",
   "metadata": {},
   "outputs": [],
   "source": [
    "corr=preapplication.corr()\n",
    "corr_df = corr.where(np.triu(np.ones(corr.shape),k=1).astype(np.bool)).unstack().reset_index()\n",
    "corr_df.columns=['Column1','Column2','Correlation']\n",
    "corr_df.dropna(subset=['Correlation'],inplace=True)\n",
    "corr_df['Abs_Correlation']=corr_df['Correlation'].abs()\n",
    "corr_df = corr_df.sort_values(by=['Abs_Correlation'], ascending=False)\n",
    "corr_df.head(10)"
   ]
  },
  {
   "cell_type": "markdown",
   "id": "20b8f4a2",
   "metadata": {},
   "source": [
    "### BIVERIATE ANALYSIS"
   ]
  },
  {
   "cell_type": "code",
   "execution_count": null,
   "id": "ccaaba44",
   "metadata": {},
   "outputs": [],
   "source": [
    "plt.figure(figsize=[20,8])\n",
    "sns.pairplot(preapplication[['AMT_ANNUITY','AMT_APPLICATION','AMT_CREDIT','AMT_GOODS_PRICE','NAME_CONTRACT_STATUS']], \n",
    "             diag_kind = 'kde', \n",
    "             plot_kws = {'alpha': 0.4, 's': 80, 'edgecolor': 'k'},\n",
    "             size = 4)\n",
    "plt.show()\n"
   ]
  },
  {
   "cell_type": "markdown",
   "id": "1877c039",
   "metadata": {},
   "source": [
    "### Merging application data and previous application data"
   ]
  },
  {
   "cell_type": "code",
   "execution_count": null,
   "id": "35e15b44",
   "metadata": {},
   "outputs": [],
   "source": [
    "## Merging the two files to do some analysis\n",
    "new= pd.merge(newdata, preapplication, how='inner', on=['SK_ID_CURR'])"
   ]
  },
  {
   "cell_type": "code",
   "execution_count": null,
   "id": "c08e3ae0",
   "metadata": {},
   "outputs": [],
   "source": [
    "new.head()"
   ]
  },
  {
   "cell_type": "code",
   "execution_count": null,
   "id": "81645cf7",
   "metadata": {},
   "outputs": [],
   "source": [
    "new.shape\n"
   ]
  },
  {
   "cell_type": "code",
   "execution_count": null,
   "id": "4c5f9ec2",
   "metadata": {},
   "outputs": [],
   "source": [
    "new.info()"
   ]
  },
  {
   "cell_type": "code",
   "execution_count": null,
   "id": "54b28cd8",
   "metadata": {},
   "outputs": [],
   "source": [
    "def plotuni_combined(Varx,Vary):\n",
    "    # 100% bar chart\n",
    "    plt.style.use('ggplot')\n",
    "    sns.despine\n",
    "    NewDat = NewLeftPrev.pivot_table(values='SK_ID_CURR', \n",
    "                      index=Varx,\n",
    "                      columns=Vary,\n",
    "                      aggfunc='count')\n",
    "    NewDat=NewDat.div(NewDat.sum(axis=1),axis='rows')*100\n",
    "    sns.set()\n",
    "    NewDat.plot(kind='bar',stacked=True,figsize=(15,5))\n",
    "    plt.title(f'Effect Of {Varx} on Loan Approval')\n",
    "    plt.xlabel(f'{Varx}')\n",
    "    plt.ylabel(f'{Vary}%')\n",
    "    plt.show()\n",
    "\n",
    "plotuni_combined('FLAG_OWN_CAR','NAME_CONTRACT_STATUS')"
   ]
  },
  {
   "cell_type": "markdown",
   "id": "4c23ab19",
   "metadata": {},
   "source": [
    "##### We see that car ownership doesn't have any effect on application approval or rejection. \n",
    "#####   previous analysis ,the people who has a car has lesser chances of default. \n",
    "\n"
   ]
  },
  {
   "cell_type": "code",
   "execution_count": null,
   "id": "924932df",
   "metadata": {},
   "outputs": [],
   "source": [
    "plotuni_combined('CODE_GENDER','WEEKDAY_APPR_PROCESS_START_Current')"
   ]
  },
  {
   "cell_type": "markdown",
   "id": "d6b42f6a",
   "metadata": {},
   "source": [
    "##### We see that code gender doesn't have any effect on application approval or rejection.\n",
    "#####     But we saw earlier that female have lesser chances of default compared to males.\n",
    "  #####       The bank can add more weightage to female while approving a loan amount.\n",
    "\n",
    "\n"
   ]
  },
  {
   "cell_type": "code",
   "execution_count": null,
   "id": "ed73c7e7",
   "metadata": {},
   "outputs": [],
   "source": [
    "plotuni_combined('CODE_GENDER','NAME_CLIENT_TYPE')\n"
   ]
  },
  {
   "cell_type": "code",
   "execution_count": null,
   "id": "65b5368a",
   "metadata": {},
   "outputs": [],
   "source": [
    "plotuni_combined('CODE_GENDER','AMT_INCOME_TOTAL_bin')\n"
   ]
  },
  {
   "cell_type": "code",
   "execution_count": null,
   "id": "2602eb32",
   "metadata": {},
   "outputs": [],
   "source": [
    "plotuni_combined('CODE_GENDER','NAME_CONTRACT_TYPE_Current')"
   ]
  },
  {
   "cell_type": "code",
   "execution_count": null,
   "id": "dea61d8c",
   "metadata": {},
   "outputs": [],
   "source": [
    "plotuni_combined('CODE_GENDER','AMT_CREDIT_bin')"
   ]
  },
  {
   "cell_type": "code",
   "execution_count": null,
   "id": "b6663a11",
   "metadata": {},
   "outputs": [],
   "source": [
    "plotuni_combined('CODE_GENDER','NAME_YIELD_GROUP')"
   ]
  },
  {
   "cell_type": "code",
   "execution_count": null,
   "id": "ffbb37d9",
   "metadata": {},
   "outputs": [],
   "source": [
    "plotuni_combined('CODE_GENDER','')"
   ]
  },
  {
   "cell_type": "code",
   "execution_count": null,
   "id": "db11db13",
   "metadata": {},
   "outputs": [],
   "source": [
    "##### both in NAME_CONTRACT_TYPE_Previous and NAME_CONTRACT_TYPE_Current unaccompanied has the highest number.\n",
    "##### for Medium AMT_INCOME_TOTAL_bin the approval is highest .\n",
    "##### Value of AMT_CREDIT_BIN does not affect loan approvals.\n",
    "##### Repeater has highest number of approved loans."
   ]
  },
  {
   "cell_type": "markdown",
   "id": "36a552aa",
   "metadata": {},
   "source": [
    "### biveriate"
   ]
  },
  {
   "cell_type": "code",
   "execution_count": null,
   "id": "fd5e1a53",
   "metadata": {},
   "outputs": [],
   "source": [
    "table= pd.crosstab(index=merged_df['NAME_CONTRACT_STATUS'],columns=merged_df['NAME_CONTRACT_TYPE_Current'])\n",
    "print(table)\n",
    "table.plot(kind=\"bar\", figsize=(5,5),stacked=False)\n",
    "plt.show()"
   ]
  },
  {
   "cell_type": "code",
   "execution_count": null,
   "id": "1c8ca6ef",
   "metadata": {},
   "outputs": [],
   "source": [
    "table= pd.crosstab(index=merged_df['NAME_CONTRACT_STATUS'],columns=merged_df['NAME_INCOME_TYPE'])\n",
    "print(table)\n",
    "table.plot(kind=\"bar\", figsize=(5,5),stacked=False)\n",
    "plt.show()\n",
    "# Highest number of approvals for working applicant\n",
    "\n",
    "\n"
   ]
  },
  {
   "cell_type": "code",
   "execution_count": null,
   "id": "04f22fe5",
   "metadata": {},
   "outputs": [],
   "source": [
    "table= pd.crosstab(index=merged_df['NAME_CONTRACT_STATUS'],columns=merged_df['NAME_EDUCATION_TYPE'])\n",
    "print(table)\n",
    "table.plot(kind=\"bar\", figsize=(5,5),stacked=False)\n",
    "plt.show()\n",
    "# Highest number of approvals for Secondary/secondary special educated applicant\n"
   ]
  },
  {
   "cell_type": "code",
   "execution_count": null,
   "id": "151cba4b",
   "metadata": {},
   "outputs": [],
   "source": []
  },
  {
   "cell_type": "code",
   "execution_count": null,
   "id": "e2ece9ed",
   "metadata": {},
   "outputs": [],
   "source": [
    "table= pd.crosstab(index=merged_df['NAME_CONTRACT_STATUS'],columns=merged_df['NAME_FAMILY_STATUS'])\n",
    "print(table)\n",
    "table.plot(kind=\"bar\", figsize=(5,5),stacked=False)\n",
    "plt.show()\n",
    "# Highest number of approvals for Married applicant\n",
    "\n"
   ]
  },
  {
   "cell_type": "raw",
   "id": "00e3ea10",
   "metadata": {},
   "source": [
    "AMT_CREDIT_Previous has highest refused cases and AMT_CREDIT_Current is similar for all 4 cases.\n",
    "time spent in unused offer is higher as compared to other categories.\n",
    "So bank should reduce time spent on unused offer.\n",
    "nuclear family(2-3 people in family) get highest approval.\n",
    "Previously most of the applications were cancelled or refused\n",
    "but now Refused/Cancelled/Approved/Unused all four have similar situation for AMT_GOODS_PRICE.\n",
    "Previously most of the applications were cancelled or refused\n",
    "but now Refused/Cancelled/Approved/Unused all four have similar situation for AMT_ANNUITY."
   ]
  },
  {
   "cell_type": "code",
   "execution_count": null,
   "id": "bd3e792b",
   "metadata": {},
   "outputs": [],
   "source": []
  }
 ],
 "metadata": {
  "kernelspec": {
   "display_name": "Python 3",
   "language": "python",
   "name": "python3"
  },
  "language_info": {
   "codemirror_mode": {
    "name": "ipython",
    "version": 3
   },
   "file_extension": ".py",
   "mimetype": "text/x-python",
   "name": "python",
   "nbconvert_exporter": "python",
   "pygments_lexer": "ipython3",
   "version": "3.8.8"
  }
 },
 "nbformat": 4,
 "nbformat_minor": 5
}
